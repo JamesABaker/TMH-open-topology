{
 "cells": [
  {
   "cell_type": "markdown",
   "metadata": {},
   "source": [
    "# TMH Open Topology\n",
    "## A tool to evaluate the topological preference of a TMH based on a population of TMHs with known topology\n",
    "\n",
    "This runs the TMH sequence through a positionally dependent matrix of residue scores and checks the total score between forwards/backwards runs of the TMH. A greater difference indicates a greater topological preference. The advantage of this method is that the individual contribution of each residue are calculated, and whilst the accuracy of the predictor may not always be the highest overall, it allows for sensitive evaluation of the topology of a TMP without the need for hidden layers in neural networks or HMMs.\n",
    "\n",
    "The input sequence should be a single TMH with 5 flanking residues either side. However, flanks are often fuzzy in biology, so determining the exact TMH boundary at a single residue position is difficult, if not, impossible. Users are encouraged to submit several versions of the TMH with different boundaries.\n",
    "\n"
   ]
  },
  {
   "cell_type": "markdown",
   "metadata": {},
   "source": [
    "## Input"
   ]
  },
  {
   "cell_type": "code",
   "execution_count": 1,
   "metadata": {},
   "outputs": [],
   "source": [
    "#Replace the below AA sequence with your own.\n",
    "input_sequence=str(\"FRFRVIAALGFLVGAKVLNVQVPFLFKL\")"
   ]
  },
  {
   "cell_type": "markdown",
   "metadata": {},
   "source": [
    "## Sequence checks"
   ]
  },
  {
   "cell_type": "code",
   "execution_count": 2,
   "metadata": {
    "scrolled": true
   },
   "outputs": [
    {
     "name": "stdout",
     "output_type": "stream",
     "text": [
      "Sequence valid\n"
     ]
    }
   ],
   "source": [
    "def characters(input_sequence):\n",
    "    amino_acids = [\"I\",\"V\",\"L\",\"F\",\"C\",\"M\",\"A\",\"G\",\"T\",\"S\",\"W\",\"Y\",\"P\",\"H\",\"E\",\"Q\",\"D\",\"N\",\"K\",\"R\"]\n",
    "    character_check = True\n",
    "    for i in list(input_sequence):\n",
    "        if str(i) not in amino_acids:\n",
    "            print(\"Character detected that do not represent an amino acid. Please remove any non-AA characters or convert the characters to upper case.\")\n",
    "            character_check = False\n",
    "    if character_check == True:\n",
    "        return(True)\n",
    "    else:\n",
    "        return(False)\n",
    "\n",
    "def length(input_sequence):\n",
    "    lower_length_cutoff = 20\n",
    "    higher_length_cutoff = 40\n",
    "    if len(input_sequence) > lower_length_cutoff and len(input_sequence) < higher_length_cutoff:\n",
    "        return(True)\n",
    "    else:\n",
    "        print(\"Sequence must be between\", lower_length_cutoff, \"and\", higher_length_cutoff, \"residues long.\")\n",
    "        return(False)\n",
    "      \n",
    "        \n",
    "# The sequence validity is set to false, then the checks are run to see if it can be set to true.\n",
    "sequence_integrity = False\n",
    "\n",
    "if characters(input_sequence) == True and length(input_sequence) == True:\n",
    "    print(\"Sequence valid\")\n",
    "    sequence_integrity = True\n"
   ]
  },
  {
   "cell_type": "markdown",
   "metadata": {},
   "source": [
    "## Score Calculation"
   ]
  },
  {
   "cell_type": "code",
   "execution_count": 8,
   "metadata": {},
   "outputs": [
    {
     "name": "stdout",
     "output_type": "stream",
     "text": [
      "\n",
      " \n",
      "\n",
      "\n",
      "Inside to outside score\n",
      "F at position 0 scores\n",
      "R at position 1 scores\n",
      "F at position 2 scores\n",
      "R at position 3 scores\n",
      "V at position 4 scores\n",
      "I at position 5 scores\n",
      "A at position 6 scores\n",
      "A at position 7 scores\n",
      "L at position 8 scores\n",
      "G at position 9 scores\n",
      "F at position 10 scores\n",
      "L at position 11 scores\n",
      "V at position 12 scores\n",
      "G at position 13 scores\n",
      "A at position 14 scores\n",
      "K at position 15 scores\n",
      "V at position 16 scores\n",
      "L at position 17 scores\n",
      "N at position 18 scores\n",
      "V at position 19 scores\n",
      "Q at position 20 scores\n",
      "V at position 21 scores\n",
      "P at position 22 scores\n",
      "F at position 23 scores\n",
      "L at position 24 scores\n",
      "F at position 25 scores\n",
      "K at position 26 scores\n",
      "L at position 27 scores\n",
      "\n",
      "Outside to inside score\n",
      "L at position 0 scores\n",
      "K at position 1 scores\n",
      "F at position 2 scores\n",
      "L at position 3 scores\n",
      "F at position 4 scores\n",
      "P at position 5 scores\n",
      "V at position 6 scores\n",
      "Q at position 7 scores\n",
      "V at position 8 scores\n",
      "N at position 9 scores\n",
      "L at position 10 scores\n",
      "V at position 11 scores\n",
      "K at position 12 scores\n",
      "A at position 13 scores\n",
      "G at position 14 scores\n",
      "V at position 15 scores\n",
      "L at position 16 scores\n",
      "F at position 17 scores\n",
      "G at position 18 scores\n",
      "L at position 19 scores\n",
      "A at position 20 scores\n",
      "A at position 21 scores\n",
      "I at position 22 scores\n",
      "V at position 23 scores\n",
      "R at position 24 scores\n",
      "F at position 25 scores\n",
      "R at position 26 scores\n",
      "F at position 27 scores\n",
      "Topology-score, Likelihood score\n"
     ]
    }
   ],
   "source": [
    "def topologyscore(input_sequence):\n",
    "    print(\"\\nInside to outside score\")\n",
    "    for position, residue in enumerate(list(input_sequence)):\n",
    "        print(residue, \"at position\", position, \"scores\", )\n",
    "    print(\"\\nOutside to inside score\")\n",
    "    for position, residue in enumerate(list(input_sequence[::-1])):\n",
    "        print(residue, \"at position\", position, \"scores\", )\n",
    "    return(\"Topology-score, Likelihood score\")\n",
    "\n",
    "if sequence_integrity == True:      \n",
    "    print(topologyscore(input_sequence))"
   ]
  },
  {
   "cell_type": "markdown",
   "metadata": {},
   "source": [
    "## Interpretting the score.\n",
    "\n"
   ]
  }
 ],
 "metadata": {
  "kernelspec": {
   "display_name": "Python 3",
   "language": "python",
   "name": "python3"
  },
  "language_info": {
   "codemirror_mode": {
    "name": "ipython",
    "version": 3
   },
   "file_extension": ".py",
   "mimetype": "text/x-python",
   "name": "python",
   "nbconvert_exporter": "python",
   "pygments_lexer": "ipython3",
   "version": "3.7.0"
  }
 },
 "nbformat": 4,
 "nbformat_minor": 2
}
